{
 "cells": [
  {
   "cell_type": "code",
   "execution_count": 20,
   "metadata": {},
   "outputs": [
    {
     "name": "stdout",
     "output_type": "stream",
     "text": [
      "Введіть своє ім'яИван\n",
      "Иван , вгадайте число від 0 до 10, у вас три спроби\n",
      "Введіть число 5\n",
      "Помилка. Ваша  перша спроба не вірна\n",
      "Підсказка: задумане число ,більше 5\n",
      "Спробуйте ще раз\n",
      "Введіть число 3\n",
      "Помилка. Ваша  друга спроба не вірна\n",
      "Підсказка: задумане число ,більше 3\n",
      "Спробуйте ще раз\n",
      "Введіть число 4\n",
      "Помилка, спроби закінчились\n",
      "Иван гра закінчена\n"
     ]
    }
   ],
   "source": [
    "name=input(\"Введіть своє ім'я \")\n",
    "k=[\"перша\",\"друга\",\"трейтя\"]\n",
    "import random\n",
    "number=random.randint(0,10)\n",
    "print(name,', вгадайте число від 0 до 10, у вас три спроби')\n",
    "i=0\n",
    "while i<3:\n",
    "    n=int(input('Введіть число '))\n",
    "    if n==number:\n",
    "        print (name,\", ти переміг!!!\")\n",
    "        break\n",
    "    elif n>number:\n",
    "        print ('Помилка. Ваша ',k[i],'спроба не вірна')\n",
    "        print ('Підсказка: задумане число менше',n)\n",
    "        print  ('Спробуйте ще раз')     \n",
    "    elif i==2:\n",
    "        print (\"Помилка, спроби закінчились\") \n",
    "        print (name, \"гра закінчена\")\n",
    "    else:\n",
    "        print ('Помилка. Ваша ',k[i],'спроба не вірна')\n",
    "        print ('Підсказка: задумане число ,більше',n)\n",
    "        print  ('Спробуйте ще раз')   \n",
    "    i+=1\n",
    "\n",
    "        "
   ]
  },
  {
   "cell_type": "code",
   "execution_count": 13,
   "metadata": {
    "scrolled": true
   },
   "outputs": [
    {
     "name": "stdout",
     "output_type": "stream",
     "text": [
      "Хто перетинає кордон?Игор\n",
      "Хто перетинає кордон?Таня\n",
      "Хто перетинає кордон?Лена\n",
      "Хто перетинає кордон?Лена\n",
      "Хто перетинає кордон?Вася\n",
      "Хто перетинає кордон?Таня\n",
      "Хто перетинає кордон?END\n",
      "Лена 2\n",
      "Вася 1\n",
      "Игор 1\n",
      "Таня 2\n"
     ]
    }
   ],
   "source": [
    "sp=[]\n",
    "end='END'\n",
    "while True:\n",
    "    name=  input('Хто перетинає кордон?')\n",
    "    if name==end:\n",
    "        break\n",
    "    else:\n",
    "        sp.append(name)\n",
    "mp=set(sp)\n",
    "for i in mp:\n",
    "    s=0\n",
    "    for j in sp:\n",
    "        if i==j:\n",
    "            s+=1\n",
    "    print(i,s)"
   ]
  },
  {
   "cell_type": "code",
   "execution_count": 109,
   "metadata": {},
   "outputs": [
    {
     "name": "stdout",
     "output_type": "stream",
     "text": [
      "Сума всіх елементів= 63\n",
      "\n",
      "Найбільше значення 10\n",
      "\n",
      "сума першого рядка= 18\n",
      "\n",
      "Мінімальний елемент другого стовпця 1\n",
      "\n",
      "Останнє завдання можно виконати лише при матриці типу nxn\n",
      "максимальний елемент по головній діаганалі= 7\n",
      "\n",
      "[[10, 5, 3], [10, 1, 9], [4, 9, 4], [2, 2, 4]]\n",
      "[[0, 1, 4, 8], [7, 7, 6, 6], [9, 3, 1, 7], [10, 2, 10, 7]]\n"
     ]
    }
   ],
   "source": [
    "mat=[]\n",
    "\n",
    "\n",
    "import random\n",
    "for i in range(4):\n",
    "    kat=[]\n",
    "    for j in range(3):\n",
    "        kat.append(random.randint(0,10))\n",
    "    mat.append(kat)   \n",
    "s=0\n",
    "for i in range(4):\n",
    "    for j in range(3):\n",
    "        s=s+mat[i][j]\n",
    "print ('Сума всіх елементів=',s)     \n",
    "print('')\n",
    "maxel=mat[0][0]\n",
    "for i in range(4):\n",
    "    for j in range(3):\n",
    "        if maxel<mat[i][j]:\n",
    "            maxel=mat[i][j]    \n",
    "print('Найбільше значення', maxel)\n",
    "print('')\n",
    "sum1=0\n",
    "for i in range(3):\n",
    "    sum1=sum1+mat[0][i]\n",
    "print ('сума першого рядка=',sum1)\n",
    "print('')\n",
    "minel=mat[0][1]\n",
    "for i in range(4):\n",
    "    if minel>mat[i][1]:\n",
    "        minel=mat[i][1]\n",
    "print ('Мінімальний елемент другого стовпця',minel)\n",
    "print('')\n",
    "print ('Останнє завдання можно виконати лише при матриці типу nxn')\n",
    "pat=[]\n",
    "for i in range(4):\n",
    "    at=[]\n",
    "    for j in range(4):\n",
    "        at.append(random.randint(0,10))\n",
    "    pat.append(at)   \n",
    "maxdiag=pat[0][0]\n",
    "for i in range(4):\n",
    "    for j in range(4):\n",
    "        if  i==j:\n",
    "            if maxdiag<pat[i][j]:\n",
    "                 maxdiag=pat[i][j]\n",
    "print('максимальний елемент по головній діаганалі=',maxdiag)  \n",
    "print('')\n",
    "print (mat)\n",
    "print (pat)"
   ]
  },
  {
   "cell_type": "code",
   "execution_count": 53,
   "metadata": {},
   "outputs": [
    {
     "name": "stdout",
     "output_type": "stream",
     "text": [
      "\f",
      "\n"
     ]
    }
   ],
   "source": []
  },
  {
   "cell_type": "code",
   "execution_count": null,
   "metadata": {
    "scrolled": true
   },
   "outputs": [],
   "source": []
  },
  {
   "cell_type": "code",
   "execution_count": null,
   "metadata": {},
   "outputs": [],
   "source": []
  }
 ],
 "metadata": {
  "kernelspec": {
   "display_name": "Python 3",
   "language": "python",
   "name": "python3"
  },
  "language_info": {
   "codemirror_mode": {
    "name": "ipython",
    "version": 3
   },
   "file_extension": ".py",
   "mimetype": "text/x-python",
   "name": "python",
   "nbconvert_exporter": "python",
   "pygments_lexer": "ipython3",
   "version": "3.7.6"
  }
 },
 "nbformat": 4,
 "nbformat_minor": 4
}
