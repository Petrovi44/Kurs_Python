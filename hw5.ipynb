{
 "cells": [
  {
   "cell_type": "code",
   "execution_count": 5,
   "metadata": {},
   "outputs": [
    {
     "name": "stdout",
     "output_type": "stream",
     "text": [
      "Введите название файла ///\n",
      "Назва недопустима вказує шлях\n"
     ]
    }
   ],
   "source": [
    "try:\n",
    "    nf=input(\"Введите название файла \")\n",
    "    with open (nf,'w') as pr:\n",
    "        pr.write('')\n",
    "except FileNotFoundError:\n",
    "    print('Назва недопустима вказує шлях')\n",
    "except OSError:\n",
    "    print('Назва недопустима невірні симоволи')\n",
    "else:\n",
    "    print (\"Файл\",nf,'створено')"
   ]
  },
  {
   "cell_type": "code",
   "execution_count": 31,
   "metadata": {},
   "outputs": [
    {
     "name": "stdout",
     "output_type": "stream",
     "text": [
      "10\n",
      "10\n"
     ]
    }
   ],
   "source": [
    "N=int(input())\n",
    "K=int(input())\n",
    "t=K*\"*\"+'\\n'\n",
    "with open ('tabl.txt', 'w') as tabl:\n",
    "    for _ in range(N):\n",
    "        tabl.write(t)\n",
    "    \n",
    "    \n",
    "    "
   ]
  },
  {
   "cell_type": "code",
   "execution_count": 32,
   "metadata": {},
   "outputs": [
    {
     "name": "stdout",
     "output_type": "stream",
     "text": [
      "**********\n",
      "\n"
     ]
    }
   ],
   "source": [
    "with open ('tabl.txt') as tabl:\n",
    "    l1=tabl.readline()\n",
    "print(l1)\n",
    "    "
   ]
  },
  {
   "cell_type": "code",
   "execution_count": 30,
   "metadata": {},
   "outputs": [
    {
     "name": "stdout",
     "output_type": "stream",
     "text": [
      "5\n",
      "['**********', '**********', '**********', '**********', '**********', '**********', '**********', '**********', '**********', '**********']\n",
      "['*****', '*****', '*****', '*****', '*****', '*****', '*****', '*****', '*****', '*****']\n"
     ]
    }
   ],
   "source": [
    "k=int(input())\n",
    "with open ('tabl.txt','r') as tabl:\n",
    "    nums = tabl.read().splitlines()\n",
    "print(nums)\n",
    "num=[]\n",
    "for y in nums:\n",
    "    num.append(y[k:])\n",
    "print(num)  \n",
    "with open ('tabl.txt','w') as tabl:\n",
    "    for q in num:\n",
    "        tabl.write(q)\n",
    "        tabl.write('\\n')\n",
    "    \n"
   ]
  },
  {
   "cell_type": "code",
   "execution_count": 56,
   "metadata": {},
   "outputs": [
    {
     "ename": "ModuleNotFoundError",
     "evalue": "No module named 'Vasya'",
     "output_type": "error",
     "traceback": [
      "\u001b[1;31m---------------------------------------------------------------------------\u001b[0m",
      "\u001b[1;31mModuleNotFoundError\u001b[0m                       Traceback (most recent call last)",
      "\u001b[1;32m<ipython-input-56-daee57ea6b03>\u001b[0m in \u001b[0;36m<module>\u001b[1;34m\u001b[0m\n\u001b[0;32m      8\u001b[0m \u001b[1;31m#5print(dict['c'])\u001b[0m\u001b[1;33m\u001b[0m\u001b[1;33m\u001b[0m\u001b[1;33m\u001b[0m\u001b[0m\n\u001b[0;32m      9\u001b[0m \u001b[1;31m#6\u001b[0m\u001b[1;33m\u001b[0m\u001b[1;33m\u001b[0m\u001b[1;33m\u001b[0m\u001b[0m\n\u001b[1;32m---> 10\u001b[1;33m \u001b[1;32mimport\u001b[0m \u001b[0mVasya\u001b[0m\u001b[1;33m\u001b[0m\u001b[1;33m\u001b[0m\u001b[0m\n\u001b[0m\u001b[0;32m     11\u001b[0m \u001b[1;31m#7a=[]\u001b[0m\u001b[1;33m\u001b[0m\u001b[1;33m\u001b[0m\u001b[1;33m\u001b[0m\u001b[0m\n\u001b[0;32m     12\u001b[0m \u001b[1;31m#a.apend('5')\u001b[0m\u001b[1;33m\u001b[0m\u001b[1;33m\u001b[0m\u001b[1;33m\u001b[0m\u001b[0m\n",
      "\u001b[1;31mModuleNotFoundError\u001b[0m: No module named 'Vasya'"
     ]
    }
   ],
   "source": [
    "#1 print(a b)\n",
    "#2 if 5>6:\n",
    " # h=5\n",
    "#3 print (s)\n",
    "#4a='erterjljtlw'\n",
    "#4print(a[100])\n",
    "#5dict={'a':1,'b':2}\n",
    "#5print(dict['c'])\n",
    "#6 ошибка возникшая при использовании оператора import представлена схожая ошибка\n",
    "#import Vasya\n",
    "#7a=[]\n",
    "#a.apend('5')\n",
    "#8print(5/0)\n",
    "# Возникает, когда генерируется ошибка не попадающая ни в какую категорию."
   ]
  },
  {
   "cell_type": "code",
   "execution_count": null,
   "metadata": {},
   "outputs": [],
   "source": [
    "IndentationError"
   ]
  }
 ],
 "metadata": {
  "kernelspec": {
   "display_name": "Python 3",
   "language": "python",
   "name": "python3"
  },
  "language_info": {
   "codemirror_mode": {
    "name": "ipython",
    "version": 3
   },
   "file_extension": ".py",
   "mimetype": "text/x-python",
   "name": "python",
   "nbconvert_exporter": "python",
   "pygments_lexer": "ipython3",
   "version": "3.7.6"
  }
 },
 "nbformat": 4,
 "nbformat_minor": 4
}
